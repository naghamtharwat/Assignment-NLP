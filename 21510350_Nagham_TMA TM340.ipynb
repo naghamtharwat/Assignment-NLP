{
 "cells": [
  {
   "cell_type": "markdown",
   "id": "4b6b8cd8-c6ca-4c95-be72-44d7767086ee",
   "metadata": {},
   "source": [
    "# Name : Nagham Tharwat Ramadan\n",
    "# ID : 21510350\n",
    "# TM340 TMA 2025\n",
    "# Classify SMS messages as either spam or ham (non-spam)."
   ]
  },
  {
   "cell_type": "markdown",
   "id": "eae0d775-8089-4b4a-8e9e-9bb99518af84",
   "metadata": {
    "jp-MarkdownHeadingCollapsed": true
   },
   "source": [
    "## 1. Environment Setup and Data Import"
   ]
  },
  {
   "cell_type": "markdown",
   "id": "f60f4dfe-2831-4fd2-8485-63b00a2f0142",
   "metadata": {},
   "source": [
    "### Import Required Libraries:"
   ]
  },
  {
   "cell_type": "code",
   "execution_count": 5,
   "id": "26195bc6-3445-488f-afcd-5b969b2ca093",
   "metadata": {},
   "outputs": [],
   "source": [
    "# Import Python libraries\n",
    "import pandas as pd\n",
    "import numpy as np\n",
    "import re\n",
    "import string\n",
    "# Import NLP libraries \n",
    "import nltk\n",
    "from nltk.corpus import stopwords\n",
    "from nltk.stem.porter import PorterStemmer\n",
    "from nltk.tokenize import word_tokenize\n",
    "from nltk.stem import WordNetLemmatizer\n",
    "# Import machine learning tools from scikit-learn \n",
    "from sklearn.model_selection import train_test_split, cross_val_score\n",
    "from sklearn.feature_extraction.text import CountVectorizer \n",
    "from sklearn.preprocessing import LabelEncoder\n",
    "from sklearn.naive_bayes import MultinomialNB\n",
    "from sklearn.metrics import accuracy_score\n",
    "from sklearn.naive_bayes import GaussianNB\n",
    "from sklearn.tree import DecisionTreeClassifier\n",
    "from sklearn.metrics import confusion_matrix\n",
    "from sklearn.metrics import classification_report"
   ]
  },
  {
   "cell_type": "code",
   "execution_count": 6,
   "id": "487137c8-5399-4977-adf6-ac71a081b513",
   "metadata": {},
   "outputs": [
    {
     "name": "stderr",
     "output_type": "stream",
     "text": [
      "[nltk_data] Downloading package stopwords to\n",
      "[nltk_data]     C:\\Users\\nagha\\AppData\\Roaming\\nltk_data...\n",
      "[nltk_data]   Package stopwords is already up-to-date!\n",
      "[nltk_data] Downloading package punkt to\n",
      "[nltk_data]     C:\\Users\\nagha\\AppData\\Roaming\\nltk_data...\n",
      "[nltk_data]   Package punkt is already up-to-date!\n",
      "[nltk_data] Downloading package wordnet to\n",
      "[nltk_data]     C:\\Users\\nagha\\AppData\\Roaming\\nltk_data...\n",
      "[nltk_data]   Package wordnet is already up-to-date!\n"
     ]
    },
    {
     "data": {
      "text/plain": [
       "True"
      ]
     },
     "execution_count": 6,
     "metadata": {},
     "output_type": "execute_result"
    }
   ],
   "source": [
    "nltk.download('stopwords')\n",
    "nltk.download('punkt')\n",
    "nltk.download('wordnet')"
   ]
  },
  {
   "cell_type": "markdown",
   "id": "ba73299c-41c4-4817-9c24-7a957d8610dc",
   "metadata": {},
   "source": [
    "### Dataset Loading:"
   ]
  },
  {
   "cell_type": "code",
   "execution_count": 8,
   "id": "fcfec9ca-c9e9-4e50-9738-62eb9e00b361",
   "metadata": {
    "scrolled": true
   },
   "outputs": [
    {
     "data": {
      "text/html": [
       "<div>\n",
       "<style scoped>\n",
       "    .dataframe tbody tr th:only-of-type {\n",
       "        vertical-align: middle;\n",
       "    }\n",
       "\n",
       "    .dataframe tbody tr th {\n",
       "        vertical-align: top;\n",
       "    }\n",
       "\n",
       "    .dataframe thead th {\n",
       "        text-align: right;\n",
       "    }\n",
       "</style>\n",
       "<table border=\"1\" class=\"dataframe\">\n",
       "  <thead>\n",
       "    <tr style=\"text-align: right;\">\n",
       "      <th></th>\n",
       "      <th>Column1</th>\n",
       "      <th>Column2</th>\n",
       "    </tr>\n",
       "  </thead>\n",
       "  <tbody>\n",
       "    <tr>\n",
       "      <th>0</th>\n",
       "      <td>ham</td>\n",
       "      <td>Go until jurong point, crazy.. Available only ...</td>\n",
       "    </tr>\n",
       "    <tr>\n",
       "      <th>1</th>\n",
       "      <td>ham</td>\n",
       "      <td>Ok lar... Joking wif u oni...</td>\n",
       "    </tr>\n",
       "    <tr>\n",
       "      <th>2</th>\n",
       "      <td>spam</td>\n",
       "      <td>Free entry in 2 a wkly comp to win FA Cup fina...</td>\n",
       "    </tr>\n",
       "    <tr>\n",
       "      <th>3</th>\n",
       "      <td>ham</td>\n",
       "      <td>U dun say so early hor... U c already then say...</td>\n",
       "    </tr>\n",
       "    <tr>\n",
       "      <th>4</th>\n",
       "      <td>ham</td>\n",
       "      <td>Nah I don't think he goes to usf, he lives aro...</td>\n",
       "    </tr>\n",
       "    <tr>\n",
       "      <th>...</th>\n",
       "      <td>...</td>\n",
       "      <td>...</td>\n",
       "    </tr>\n",
       "    <tr>\n",
       "      <th>5569</th>\n",
       "      <td>spam</td>\n",
       "      <td>This is the 2nd time we have tried 2 contact u...</td>\n",
       "    </tr>\n",
       "    <tr>\n",
       "      <th>5570</th>\n",
       "      <td>ham</td>\n",
       "      <td>Will ü b going to esplanade fr home?</td>\n",
       "    </tr>\n",
       "    <tr>\n",
       "      <th>5571</th>\n",
       "      <td>ham</td>\n",
       "      <td>Pity, * was in mood for that. So...any other s...</td>\n",
       "    </tr>\n",
       "    <tr>\n",
       "      <th>5572</th>\n",
       "      <td>ham</td>\n",
       "      <td>The guy did some bitching but I acted like i'd...</td>\n",
       "    </tr>\n",
       "    <tr>\n",
       "      <th>5573</th>\n",
       "      <td>ham</td>\n",
       "      <td>Rofl. Its true to its name</td>\n",
       "    </tr>\n",
       "  </tbody>\n",
       "</table>\n",
       "<p>5574 rows × 2 columns</p>\n",
       "</div>"
      ],
      "text/plain": [
       "     Column1                                            Column2\n",
       "0        ham  Go until jurong point, crazy.. Available only ...\n",
       "1        ham                      Ok lar... Joking wif u oni...\n",
       "2       spam  Free entry in 2 a wkly comp to win FA Cup fina...\n",
       "3        ham  U dun say so early hor... U c already then say...\n",
       "4        ham  Nah I don't think he goes to usf, he lives aro...\n",
       "...      ...                                                ...\n",
       "5569    spam  This is the 2nd time we have tried 2 contact u...\n",
       "5570     ham               Will ü b going to esplanade fr home?\n",
       "5571     ham  Pity, * was in mood for that. So...any other s...\n",
       "5572     ham  The guy did some bitching but I acted like i'd...\n",
       "5573     ham                         Rofl. Its true to its name\n",
       "\n",
       "[5574 rows x 2 columns]"
      ]
     },
     "execution_count": 8,
     "metadata": {},
     "output_type": "execute_result"
    }
   ],
   "source": [
    "spam_or_ham_data = pd.read_csv(\"SMSSpamCollection.CSV\", encoding='latin-1')\n",
    "spam_or_ham_data"
   ]
  },
  {
   "cell_type": "markdown",
   "id": "bb280626-597f-410e-963b-c80df184ca58",
   "metadata": {
    "jp-MarkdownHeadingCollapsed": true
   },
   "source": [
    "## 2. Data Preprocessing and Exploration "
   ]
  },
  {
   "cell_type": "markdown",
   "id": "7768cf27-bea6-42c7-b13b-c5c9c32d880b",
   "metadata": {},
   "source": [
    "### Initial Exploration:"
   ]
  },
  {
   "cell_type": "code",
   "execution_count": 11,
   "id": "ff3295e0-7cc8-4a64-a3d8-a338936512e3",
   "metadata": {},
   "outputs": [
    {
     "data": {
      "text/html": [
       "<div>\n",
       "<style scoped>\n",
       "    .dataframe tbody tr th:only-of-type {\n",
       "        vertical-align: middle;\n",
       "    }\n",
       "\n",
       "    .dataframe tbody tr th {\n",
       "        vertical-align: top;\n",
       "    }\n",
       "\n",
       "    .dataframe thead th {\n",
       "        text-align: right;\n",
       "    }\n",
       "</style>\n",
       "<table border=\"1\" class=\"dataframe\">\n",
       "  <thead>\n",
       "    <tr style=\"text-align: right;\">\n",
       "      <th></th>\n",
       "      <th>Column1</th>\n",
       "      <th>Column2</th>\n",
       "    </tr>\n",
       "  </thead>\n",
       "  <tbody>\n",
       "    <tr>\n",
       "      <th>0</th>\n",
       "      <td>ham</td>\n",
       "      <td>Go until jurong point, crazy.. Available only ...</td>\n",
       "    </tr>\n",
       "    <tr>\n",
       "      <th>1</th>\n",
       "      <td>ham</td>\n",
       "      <td>Ok lar... Joking wif u oni...</td>\n",
       "    </tr>\n",
       "    <tr>\n",
       "      <th>2</th>\n",
       "      <td>spam</td>\n",
       "      <td>Free entry in 2 a wkly comp to win FA Cup fina...</td>\n",
       "    </tr>\n",
       "    <tr>\n",
       "      <th>3</th>\n",
       "      <td>ham</td>\n",
       "      <td>U dun say so early hor... U c already then say...</td>\n",
       "    </tr>\n",
       "    <tr>\n",
       "      <th>4</th>\n",
       "      <td>ham</td>\n",
       "      <td>Nah I don't think he goes to usf, he lives aro...</td>\n",
       "    </tr>\n",
       "    <tr>\n",
       "      <th>5</th>\n",
       "      <td>spam</td>\n",
       "      <td>FreeMsg Hey there darling it's been 3 week's n...</td>\n",
       "    </tr>\n",
       "    <tr>\n",
       "      <th>6</th>\n",
       "      <td>ham</td>\n",
       "      <td>Even my brother is not like to speak with me. ...</td>\n",
       "    </tr>\n",
       "    <tr>\n",
       "      <th>7</th>\n",
       "      <td>ham</td>\n",
       "      <td>As per your request 'Melle Melle (Oru Minnamin...</td>\n",
       "    </tr>\n",
       "    <tr>\n",
       "      <th>8</th>\n",
       "      <td>spam</td>\n",
       "      <td>WINNER!! As a valued network customer you have...</td>\n",
       "    </tr>\n",
       "    <tr>\n",
       "      <th>9</th>\n",
       "      <td>spam</td>\n",
       "      <td>Had your mobile 11 months or more? U R entitle...</td>\n",
       "    </tr>\n",
       "  </tbody>\n",
       "</table>\n",
       "</div>"
      ],
      "text/plain": [
       "  Column1                                            Column2\n",
       "0     ham  Go until jurong point, crazy.. Available only ...\n",
       "1     ham                      Ok lar... Joking wif u oni...\n",
       "2    spam  Free entry in 2 a wkly comp to win FA Cup fina...\n",
       "3     ham  U dun say so early hor... U c already then say...\n",
       "4     ham  Nah I don't think he goes to usf, he lives aro...\n",
       "5    spam  FreeMsg Hey there darling it's been 3 week's n...\n",
       "6     ham  Even my brother is not like to speak with me. ...\n",
       "7     ham  As per your request 'Melle Melle (Oru Minnamin...\n",
       "8    spam  WINNER!! As a valued network customer you have...\n",
       "9    spam  Had your mobile 11 months or more? U R entitle..."
      ]
     },
     "execution_count": 11,
     "metadata": {},
     "output_type": "execute_result"
    }
   ],
   "source": [
    "# Display the first few rows of the dataset to understand its structure.\n",
    "spam_or_ham_data.head(10)"
   ]
  },
  {
   "cell_type": "code",
   "execution_count": 12,
   "id": "b73aa2ac-418f-477f-862a-55b8b083c436",
   "metadata": {},
   "outputs": [
    {
     "name": "stdout",
     "output_type": "stream",
     "text": [
      "<class 'pandas.core.frame.DataFrame'>\n",
      "RangeIndex: 5574 entries, 0 to 5573\n",
      "Data columns (total 2 columns):\n",
      " #   Column   Non-Null Count  Dtype \n",
      "---  ------   --------------  ----- \n",
      " 0   Column1  5574 non-null   object\n",
      " 1   Column2  5574 non-null   object\n",
      "dtypes: object(2)\n",
      "memory usage: 87.2+ KB\n"
     ]
    }
   ],
   "source": [
    "spam_or_ham_data.info()"
   ]
  },
  {
   "cell_type": "code",
   "execution_count": 13,
   "id": "18ef0669-701d-4c51-ac51-6bd6c67c07ff",
   "metadata": {},
   "outputs": [
    {
     "data": {
      "text/plain": [
       "Column1    0\n",
       "Column2    0\n",
       "dtype: int64"
      ]
     },
     "execution_count": 13,
     "metadata": {},
     "output_type": "execute_result"
    }
   ],
   "source": [
    "spam_or_ham_data.isnull().sum()"
   ]
  },
  {
   "cell_type": "markdown",
   "id": "75502a08-fb40-4a21-b2da-a1fac172ffef",
   "metadata": {},
   "source": [
    "### Column Handling:"
   ]
  },
  {
   "cell_type": "code",
   "execution_count": 15,
   "id": "cfe7fbbe-6b2b-41d6-8f88-1137e2b05ef7",
   "metadata": {},
   "outputs": [
    {
     "name": "stdout",
     "output_type": "stream",
     "text": [
      "Index(['Column1', 'Column2'], dtype='object')\n"
     ]
    }
   ],
   "source": [
    "print(spam_or_ham_data.columns)"
   ]
  },
  {
   "cell_type": "code",
   "execution_count": 16,
   "id": "e048b137-acf2-428d-b918-b718feabf130",
   "metadata": {},
   "outputs": [
    {
     "data": {
      "text/html": [
       "<div>\n",
       "<style scoped>\n",
       "    .dataframe tbody tr th:only-of-type {\n",
       "        vertical-align: middle;\n",
       "    }\n",
       "\n",
       "    .dataframe tbody tr th {\n",
       "        vertical-align: top;\n",
       "    }\n",
       "\n",
       "    .dataframe thead th {\n",
       "        text-align: right;\n",
       "    }\n",
       "</style>\n",
       "<table border=\"1\" class=\"dataframe\">\n",
       "  <thead>\n",
       "    <tr style=\"text-align: right;\">\n",
       "      <th></th>\n",
       "      <th>label</th>\n",
       "      <th>message</th>\n",
       "    </tr>\n",
       "  </thead>\n",
       "  <tbody>\n",
       "    <tr>\n",
       "      <th>0</th>\n",
       "      <td>ham</td>\n",
       "      <td>Go until jurong point, crazy.. Available only ...</td>\n",
       "    </tr>\n",
       "    <tr>\n",
       "      <th>1</th>\n",
       "      <td>ham</td>\n",
       "      <td>Ok lar... Joking wif u oni...</td>\n",
       "    </tr>\n",
       "    <tr>\n",
       "      <th>2</th>\n",
       "      <td>spam</td>\n",
       "      <td>Free entry in 2 a wkly comp to win FA Cup fina...</td>\n",
       "    </tr>\n",
       "    <tr>\n",
       "      <th>3</th>\n",
       "      <td>ham</td>\n",
       "      <td>U dun say so early hor... U c already then say...</td>\n",
       "    </tr>\n",
       "    <tr>\n",
       "      <th>4</th>\n",
       "      <td>ham</td>\n",
       "      <td>Nah I don't think he goes to usf, he lives aro...</td>\n",
       "    </tr>\n",
       "    <tr>\n",
       "      <th>...</th>\n",
       "      <td>...</td>\n",
       "      <td>...</td>\n",
       "    </tr>\n",
       "    <tr>\n",
       "      <th>5569</th>\n",
       "      <td>spam</td>\n",
       "      <td>This is the 2nd time we have tried 2 contact u...</td>\n",
       "    </tr>\n",
       "    <tr>\n",
       "      <th>5570</th>\n",
       "      <td>ham</td>\n",
       "      <td>Will ü b going to esplanade fr home?</td>\n",
       "    </tr>\n",
       "    <tr>\n",
       "      <th>5571</th>\n",
       "      <td>ham</td>\n",
       "      <td>Pity, * was in mood for that. So...any other s...</td>\n",
       "    </tr>\n",
       "    <tr>\n",
       "      <th>5572</th>\n",
       "      <td>ham</td>\n",
       "      <td>The guy did some bitching but I acted like i'd...</td>\n",
       "    </tr>\n",
       "    <tr>\n",
       "      <th>5573</th>\n",
       "      <td>ham</td>\n",
       "      <td>Rofl. Its true to its name</td>\n",
       "    </tr>\n",
       "  </tbody>\n",
       "</table>\n",
       "<p>5574 rows × 2 columns</p>\n",
       "</div>"
      ],
      "text/plain": [
       "     label                                            message\n",
       "0      ham  Go until jurong point, crazy.. Available only ...\n",
       "1      ham                      Ok lar... Joking wif u oni...\n",
       "2     spam  Free entry in 2 a wkly comp to win FA Cup fina...\n",
       "3      ham  U dun say so early hor... U c already then say...\n",
       "4      ham  Nah I don't think he goes to usf, he lives aro...\n",
       "...    ...                                                ...\n",
       "5569  spam  This is the 2nd time we have tried 2 contact u...\n",
       "5570   ham               Will ü b going to esplanade fr home?\n",
       "5571   ham  Pity, * was in mood for that. So...any other s...\n",
       "5572   ham  The guy did some bitching but I acted like i'd...\n",
       "5573   ham                         Rofl. Its true to its name\n",
       "\n",
       "[5574 rows x 2 columns]"
      ]
     },
     "execution_count": 16,
     "metadata": {},
     "output_type": "execute_result"
    }
   ],
   "source": [
    "spam_or_ham_data = spam_or_ham_data.rename(columns={\"Column1\": \"label\", \"Column2\": \"message\"})\n",
    "spam_or_ham_data"
   ]
  },
  {
   "cell_type": "markdown",
   "id": "7613f47a-0e40-4985-aff0-ba348eb589f6",
   "metadata": {},
   "source": [
    "### Feature Engineering:"
   ]
  },
  {
   "cell_type": "code",
   "execution_count": 18,
   "id": "f7a31c95-1cc8-4094-bb2c-6c1fa6d064bd",
   "metadata": {},
   "outputs": [
    {
     "data": {
      "text/html": [
       "<div>\n",
       "<style scoped>\n",
       "    .dataframe tbody tr th:only-of-type {\n",
       "        vertical-align: middle;\n",
       "    }\n",
       "\n",
       "    .dataframe tbody tr th {\n",
       "        vertical-align: top;\n",
       "    }\n",
       "\n",
       "    .dataframe thead th {\n",
       "        text-align: right;\n",
       "    }\n",
       "</style>\n",
       "<table border=\"1\" class=\"dataframe\">\n",
       "  <thead>\n",
       "    <tr style=\"text-align: right;\">\n",
       "      <th></th>\n",
       "      <th>message</th>\n",
       "      <th>char_length</th>\n",
       "    </tr>\n",
       "  </thead>\n",
       "  <tbody>\n",
       "    <tr>\n",
       "      <th>0</th>\n",
       "      <td>Go until jurong point, crazy.. Available only ...</td>\n",
       "      <td>111</td>\n",
       "    </tr>\n",
       "    <tr>\n",
       "      <th>1</th>\n",
       "      <td>Ok lar... Joking wif u oni...</td>\n",
       "      <td>29</td>\n",
       "    </tr>\n",
       "    <tr>\n",
       "      <th>2</th>\n",
       "      <td>Free entry in 2 a wkly comp to win FA Cup fina...</td>\n",
       "      <td>155</td>\n",
       "    </tr>\n",
       "    <tr>\n",
       "      <th>3</th>\n",
       "      <td>U dun say so early hor... U c already then say...</td>\n",
       "      <td>49</td>\n",
       "    </tr>\n",
       "    <tr>\n",
       "      <th>4</th>\n",
       "      <td>Nah I don't think he goes to usf, he lives aro...</td>\n",
       "      <td>61</td>\n",
       "    </tr>\n",
       "    <tr>\n",
       "      <th>5</th>\n",
       "      <td>FreeMsg Hey there darling it's been 3 week's n...</td>\n",
       "      <td>147</td>\n",
       "    </tr>\n",
       "    <tr>\n",
       "      <th>6</th>\n",
       "      <td>Even my brother is not like to speak with me. ...</td>\n",
       "      <td>77</td>\n",
       "    </tr>\n",
       "    <tr>\n",
       "      <th>7</th>\n",
       "      <td>As per your request 'Melle Melle (Oru Minnamin...</td>\n",
       "      <td>160</td>\n",
       "    </tr>\n",
       "    <tr>\n",
       "      <th>8</th>\n",
       "      <td>WINNER!! As a valued network customer you have...</td>\n",
       "      <td>157</td>\n",
       "    </tr>\n",
       "    <tr>\n",
       "      <th>9</th>\n",
       "      <td>Had your mobile 11 months or more? U R entitle...</td>\n",
       "      <td>154</td>\n",
       "    </tr>\n",
       "  </tbody>\n",
       "</table>\n",
       "</div>"
      ],
      "text/plain": [
       "                                             message  char_length\n",
       "0  Go until jurong point, crazy.. Available only ...          111\n",
       "1                      Ok lar... Joking wif u oni...           29\n",
       "2  Free entry in 2 a wkly comp to win FA Cup fina...          155\n",
       "3  U dun say so early hor... U c already then say...           49\n",
       "4  Nah I don't think he goes to usf, he lives aro...           61\n",
       "5  FreeMsg Hey there darling it's been 3 week's n...          147\n",
       "6  Even my brother is not like to speak with me. ...           77\n",
       "7  As per your request 'Melle Melle (Oru Minnamin...          160\n",
       "8  WINNER!! As a valued network customer you have...          157\n",
       "9  Had your mobile 11 months or more? U R entitle...          154"
      ]
     },
     "execution_count": 18,
     "metadata": {},
     "output_type": "execute_result"
    }
   ],
   "source": [
    "# New feature, length, to compute the number of characters\n",
    "spam_or_ham_data['char_length'] = spam_or_ham_data['message'].str.len()\n",
    "# Append this feature as a new column in your dataset.\n",
    "spam_or_ham_data[['message', 'char_length']].head(10)"
   ]
  },
  {
   "cell_type": "markdown",
   "id": "1cc1e56f-6413-40bc-9cc4-8be3954ec46c",
   "metadata": {},
   "source": [
    "### Text Cleaning:"
   ]
  },
  {
   "cell_type": "code",
   "execution_count": 20,
   "id": "9245d647-8cf6-4111-89e9-28da8e46579d",
   "metadata": {},
   "outputs": [],
   "source": [
    "# Define the clean_text function\n",
    "def clean_text(message):\n",
    "    # Convert to lowercase\n",
    "    message = message.lower()\n",
    "\n",
    "    # Remove punctuation\n",
    "    message = re.sub(r'[^\\w\\s]', '', message)\n",
    "\n",
    "    # Tokenize\n",
    "    words = message.split()\n",
    "\n",
    "    # Remove stopwords\n",
    "    stop_words = set(stopwords.words('english'))\n",
    "    words = [word for word in words if word not in stop_words]\n",
    "\n",
    "    # Optional: Stemming \n",
    "    stemmer = PorterStemmer()\n",
    "    words = [stemmer.stem(word) for word in words]\n",
    "\n",
    "    # Join back to string\n",
    "    return ' '.join(words)"
   ]
  },
  {
   "cell_type": "code",
   "execution_count": 21,
   "id": "dfc361e1-a852-40c4-a988-28aeb95fa665",
   "metadata": {},
   "outputs": [],
   "source": [
    "# Apply the clean_text function\n",
    "spam_or_ham_data['cleaned_text'] = spam_or_ham_data['message'].apply(clean_text)"
   ]
  },
  {
   "cell_type": "code",
   "execution_count": 22,
   "id": "dbdf8999-f917-423f-89f5-62ffc6a5f2a0",
   "metadata": {},
   "outputs": [
    {
     "name": "stdout",
     "output_type": "stream",
     "text": [
      "Original Message:\n",
      "Go until jurong point, crazy.. Available only in bugis n great world la e buffet... Cine there got amore wat...\n",
      "\n",
      "Cleaned Text:\n",
      "go jurong point crazi avail bugi n great world la e buffet cine got amor wat\n"
     ]
    }
   ],
   "source": [
    "# Print original and cleaned version of the first message\n",
    "print(\"Original Message:\")\n",
    "print(spam_or_ham_data['message'][0])\n",
    "print(\"\\nCleaned Text:\")\n",
    "print(spam_or_ham_data['cleaned_text'][0])"
   ]
  },
  {
   "cell_type": "markdown",
   "id": "8362f806-5eb7-4596-a013-421054807bf8",
   "metadata": {
    "jp-MarkdownHeadingCollapsed": true
   },
   "source": [
    "## 3. Data Preparation for Model Training"
   ]
  },
  {
   "cell_type": "markdown",
   "id": "30cca776-e700-4dea-98a4-da6487fc8db9",
   "metadata": {},
   "source": [
    "### Text Vectorization:"
   ]
  },
  {
   "cell_type": "code",
   "execution_count": 25,
   "id": "a1d32393-3c02-4d2a-9c24-021aeda05ea7",
   "metadata": {},
   "outputs": [],
   "source": [
    "# Initialize CountVectorizer\n",
    "vectorizer = CountVectorizer()\n",
    "# X -> feature matrix (from CountVectorizer)\n",
    "# y -> target vector (from LabelEncoder)\n",
    "# Transform the \"message\" column into feature matrix\n",
    "X = vectorizer.fit_transform(spam_or_ham_data['cleaned_text'])\n",
    "\n",
    "# Encode the labels (\"label\" column) into binary target values\n",
    "label_encoder = LabelEncoder()\n",
    "y = label_encoder.fit_transform(spam_or_ham_data['label'])"
   ]
  },
  {
   "cell_type": "code",
   "execution_count": 26,
   "id": "44ecf025-2a7a-4cca-a4c7-339c5c466279",
   "metadata": {},
   "outputs": [
    {
     "name": "stdout",
     "output_type": "stream",
     "text": [
      "Shape of X (feature matrix): (5574, 8086)\n",
      "First 5 target labels: [0 0 1 0 0]\n"
     ]
    }
   ],
   "source": [
    "# Display shape of X and first few entries of y\n",
    "print(\"Shape of X (feature matrix):\", X.shape)\n",
    "print(\"First 5 target labels:\", y[:5])"
   ]
  },
  {
   "cell_type": "markdown",
   "id": "4f8ae784-bb71-4759-bc04-ed0f8e2595cf",
   "metadata": {},
   "source": [
    "### Data Splitting:"
   ]
  },
  {
   "cell_type": "code",
   "execution_count": 28,
   "id": "1af314f4-d62e-4015-bf81-00a86ac6d30f",
   "metadata": {},
   "outputs": [
    {
     "name": "stdout",
     "output_type": "stream",
     "text": [
      "Training set shape: (4459, 8086)\n",
      "Testing set shape: (1115, 8086)\n"
     ]
    }
   ],
   "source": [
    "# Split into training and testing sets (80% train, 20% test)\n",
    "X_train, X_test, y_train, y_test = train_test_split(\n",
    "    X, y, test_size=0.2, random_state=42, stratify=y  # stratify helps maintain label proportions\n",
    ")\n",
    "# Display shapes of the splits\n",
    "print(\"Training set shape:\", X_train.shape)\n",
    "print(\"Testing set shape:\", X_test.shape)"
   ]
  },
  {
   "cell_type": "markdown",
   "id": "fba9e873-5b0d-42f9-bc4c-34e9e8a0103b",
   "metadata": {
    "jp-MarkdownHeadingCollapsed": true
   },
   "source": [
    "## 4. Model Training: Multinomial Naive Bayes"
   ]
  },
  {
   "cell_type": "markdown",
   "id": "d3eb17dd-cd5c-4bb0-97d8-096e9be121b2",
   "metadata": {},
   "source": [
    "### Training the Classifier:"
   ]
  },
  {
   "cell_type": "code",
   "execution_count": 31,
   "id": "580960a3-5d99-41e8-b392-ee1816c0d13d",
   "metadata": {},
   "outputs": [
    {
     "name": "stdout",
     "output_type": "stream",
     "text": [
      "Model training complete.\n"
     ]
    }
   ],
   "source": [
    "# Instantiate the classifier\n",
    "nb_classifier = MultinomialNB()\n",
    "\n",
    "# Train the classifier on the training data\n",
    "nb_classifier.fit(X_train, y_train)\n",
    "\n",
    "print(\"Model training complete.\")"
   ]
  },
  {
   "cell_type": "markdown",
   "id": "46bf2b34-f6e2-4d5d-be1b-e005a1dff5fe",
   "metadata": {},
   "source": [
    "### Optional Enhancements:"
   ]
  },
  {
   "cell_type": "code",
   "execution_count": 33,
   "id": "836d9ddb-0792-4b1d-908d-0d3362293cd6",
   "metadata": {},
   "outputs": [
    {
     "name": "stdout",
     "output_type": "stream",
     "text": [
      "Alpha = 0.01: Accuracy = 0.9767\n",
      "Alpha = 0.1: Accuracy = 0.9749\n",
      "Alpha = 0.5: Accuracy = 0.9776\n",
      "Alpha = 1.0: Accuracy = 0.9767\n",
      "Alpha = 2.0: Accuracy = 0.9767\n"
     ]
    }
   ],
   "source": [
    "# It's the Laplace smoothing parameter.\n",
    "# Default is alpha=1.0. Lowering it (e.g., 0.1, 0.01) can sometimes improve accuracy.\n",
    "# Larger values make the model less sensitive to word frequency differences.\n",
    "# So,Train and Compare Models with Different alpha Values\n",
    "alpha_values = [0.01, 0.1, 0.5, 1.0, 2.0]\n",
    "for alpha in alpha_values:\n",
    "    model = MultinomialNB(alpha=alpha)\n",
    "    model.fit(X_train, y_train)\n",
    "    y_pred = model.predict(X_test)\n",
    "    acc = accuracy_score(y_test, y_pred)\n",
    "    print(f\"Alpha = {alpha}: Accuracy = {acc:.4f}\")"
   ]
  },
  {
   "cell_type": "markdown",
   "id": "1ee4492c-fe2b-44c9-8f7f-8be601ed31ca",
   "metadata": {
    "jp-MarkdownHeadingCollapsed": true
   },
   "source": [
    "## 5. Model Evaluation and Analysis"
   ]
  },
  {
   "cell_type": "markdown",
   "id": "8c3934ac-5284-4556-a556-3eecec62bc48",
   "metadata": {},
   "source": [
    "### Making Predictions:"
   ]
  },
  {
   "cell_type": "code",
   "execution_count": 36,
   "id": "3339f6c1-83fb-4748-949f-695194931c42",
   "metadata": {},
   "outputs": [
    {
     "name": "stdout",
     "output_type": "stream",
     "text": [
      "First 10 Predictions: [0 0 0 1 0 0 1 0 0 0]\n"
     ]
    }
   ],
   "source": [
    "# Predict labels for the test set\n",
    "y_pred = nb_classifier.predict(X_test)\n",
    "print(\"First 10 Predictions:\", y_pred[:10])"
   ]
  },
  {
   "cell_type": "markdown",
   "id": "883e381a-025a-49ac-b24d-9245c4ffb51a",
   "metadata": {},
   "source": [
    "### Performance Metrics: calculate and display."
   ]
  },
  {
   "cell_type": "code",
   "execution_count": 38,
   "id": "2898d660-699d-496f-89b3-79afa98babe1",
   "metadata": {},
   "outputs": [
    {
     "name": "stdout",
     "output_type": "stream",
     "text": [
      "Accuracy Score: 0.9767\n"
     ]
    }
   ],
   "source": [
    "# 1. Accuracy Score\n",
    "accuracy = accuracy_score(y_test, y_pred)\n",
    "print(f\"Accuracy Score: {accuracy:.4f}\")"
   ]
  },
  {
   "cell_type": "code",
   "execution_count": 39,
   "id": "d1b7528c-f61f-4646-ae22-e3b5b442ac22",
   "metadata": {},
   "outputs": [
    {
     "name": "stdout",
     "output_type": "stream",
     "text": [
      "\n",
      "Confusion Matrix:\n",
      "[[951  15]\n",
      " [ 11 138]]\n"
     ]
    }
   ],
   "source": [
    "# 2. Confusion Matrix\n",
    "conf_matrix = confusion_matrix(y_test, y_pred)\n",
    "print(\"\\nConfusion Matrix:\")\n",
    "print(conf_matrix)"
   ]
  },
  {
   "cell_type": "code",
   "execution_count": 40,
   "id": "aaa6f14b-a71e-4350-8b0e-1c149cdd98ba",
   "metadata": {},
   "outputs": [
    {
     "name": "stdout",
     "output_type": "stream",
     "text": [
      "\n",
      "Classification Report:\n",
      "              precision    recall  f1-score   support\n",
      "\n",
      "         ham       0.99      0.98      0.99       966\n",
      "        spam       0.90      0.93      0.91       149\n",
      "\n",
      "    accuracy                           0.98      1115\n",
      "   macro avg       0.95      0.96      0.95      1115\n",
      "weighted avg       0.98      0.98      0.98      1115\n",
      "\n"
     ]
    }
   ],
   "source": [
    "# 3. Classification Report\n",
    "class_report = classification_report(y_test, y_pred, target_names=label_encoder.classes_)\n",
    "print(\"\\nClassification Report:\")\n",
    "print(class_report)"
   ]
  },
  {
   "cell_type": "markdown",
   "id": "0a21191d-27a5-441d-8ec3-91c8a8707bbf",
   "metadata": {
    "jp-MarkdownHeadingCollapsed": true
   },
   "source": [
    "# Result Analysis:"
   ]
  },
  {
   "cell_type": "markdown",
   "id": "eb63568b-4266-4585-8b49-e835c28b8bd8",
   "metadata": {},
   "source": [
    "### My observation\n",
    "The Multinomial Naive Bayes classifier performed well on the SMS spam classification task, achieving a high accuracy score. Based on the classification report and confusion matrix:\n",
    "- Ham (non-spam) messages were classified with high precision and recall.\n",
    "- Spam messages were also identified accurately, though there may be a few false positives or false negatives depending on the dataset's balance and quality."
   ]
  },
  {
   "cell_type": "markdown",
   "id": "21104de5-4046-42c8-b4a1-de1f40295d78",
   "metadata": {},
   "source": [
    "### Preprocessing Challenges\n",
    "1. Data Loading & Format Issues: contain inconsistent delimiters (tabs), requiring manual inspection or cleaning before parsing.\n",
    "2. Text Cleaning: in lowercase conversion, punctuation removal, and stopword removal.\n",
    "3. Model Smoothing Parameter: The alpha parameter (Laplace smoothing) in MultinomialNB required careful tuning."
   ]
  },
  {
   "cell_type": "markdown",
   "id": "3cb9984a-4d61-467c-9378-a3c48f151146",
   "metadata": {},
   "source": [
    "### Potential Improvements\n",
    "- Explore more advanced models like logistic regression, random forest, or SVM for better generalization."
   ]
  },
  {
   "cell_type": "code",
   "execution_count": null,
   "id": "eea3268c-1ac0-47f9-a4ed-bbf5d4622bea",
   "metadata": {},
   "outputs": [],
   "source": []
  }
 ],
 "metadata": {
  "kernelspec": {
   "display_name": "Python 3 (ipykernel)",
   "language": "python",
   "name": "python3"
  },
  "language_info": {
   "codemirror_mode": {
    "name": "ipython",
    "version": 3
   },
   "file_extension": ".py",
   "mimetype": "text/x-python",
   "name": "python",
   "nbconvert_exporter": "python",
   "pygments_lexer": "ipython3",
   "version": "3.11.7"
  }
 },
 "nbformat": 4,
 "nbformat_minor": 5
}
